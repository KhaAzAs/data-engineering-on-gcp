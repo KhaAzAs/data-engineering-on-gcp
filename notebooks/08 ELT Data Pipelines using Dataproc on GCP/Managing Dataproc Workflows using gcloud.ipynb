{
 "cells": [
  {
   "cell_type": "markdown",
   "metadata": {},
   "source": [
    "## Manage Dataproc Workflows using gcloud Commands\n",
    "Let us see how we can manage Dataproc Workflows using gcloud commands.\n",
    "* Step 1: Create Dataproc Workflow Template\n",
    "* Step 2: Configure active Dataproc cluster (we can also configure new cluster)\n",
    "* Step 3: Add Spark SQL or Pyspark Jobs to Dataproc Workflow Templates with Dependencies\n",
    "* Step 4: Run and Validate the Dataproc Workflow Template\n",
    "\n",
    "We can take care of all the steps using `gcloud` commands."
   ]
  },
  {
   "cell_type": "code",
   "execution_count": 1,
   "metadata": {},
   "outputs": [
    {
     "name": "stderr",
     "output_type": "stream",
     "text": [
      "Updated property [dataproc/region].\n"
     ]
    }
   ],
   "source": [
    "!gcloud config set dataproc/region asia-southeast2"
   ]
  },
  {
   "cell_type": "code",
   "execution_count": 2,
   "metadata": {},
   "outputs": [
    {
     "name": "stderr",
     "output_type": "stream",
     "text": [
      "ERROR: (gcloud.dataproc.workflow-templates) Command name argument expected.\n",
      "\n",
      "Available groups for gcloud dataproc workflow-templates:\n",
      "\n",
      "      add-job                 Add Dataproc jobs to workflow template.\n",
      "\n",
      "Available commands for gcloud dataproc workflow-templates:\n",
      "\n",
      "      create                  Create a workflow template.\n",
      "      delete                  Delete a workflow template.\n",
      "      describe                Describe a workflow template.\n",
      "      export                  Export a workflow template.\n",
      "      get-iam-policy          Get IAM policy for a workflow template.\n",
      "      import                  Import a workflow template.\n",
      "      instantiate             Instantiate a workflow template.\n",
      "      instantiate-from-file   Instantiate a workflow template from a file.\n",
      "      list                    List workflow templates.\n",
      "      remove-dag-timeout      Remove DAG timeout from a workflow template.\n",
      "      remove-job              Remove a job from workflow template.\n",
      "      set-cluster-selector    Set cluster selector for the workflow template.\n",
      "      set-dag-timeout         Set DAG timeout on a workflow template.\n",
      "      set-iam-policy          Set IAM policy for a template.\n",
      "      set-managed-cluster     Set a managed cluster for the workflow template.\n",
      "\n",
      "For detailed information on this command and its flags, run:\n",
      "  gcloud dataproc workflow-templates --help\n"
     ]
    }
   ],
   "source": [
    "!gcloud dataproc workflow-templates"
   ]
  },
  {
   "cell_type": "code",
   "execution_count": 3,
   "metadata": {},
   "outputs": [
    {
     "name": "stdout",
     "output_type": "stream",
     "text": [
      "ID               JOBS  UPDATE_TIME                  VERSION\n",
      "getting_started  4     2024-04-21T06:50:14.751081Z  1\n"
     ]
    }
   ],
   "source": [
    "!gcloud dataproc workflow-templates list"
   ]
  },
  {
   "cell_type": "markdown",
   "metadata": {},
   "source": [
    "Here is the command to delete Dataproc Workflow Template (multiline approach doesn't work on Windows)\n",
    "\n",
    "```shell\n",
    "gcloud dataproc workflow-templates \\\n",
    "    delete wf-daily-product-revenue\n",
    "```"
   ]
  },
  {
   "cell_type": "code",
   "execution_count": 4,
   "metadata": {},
   "outputs": [
    {
     "name": "stderr",
     "output_type": "stream",
     "text": [
      "ERROR: (gcloud.dataproc.workflow-templates.delete) NOT_FOUND: Not found: Workflow Template projects/wired-method-417107/regions/asia-southeast2/workflowTemplates/wf-daily-product-revenue\n"
     ]
    }
   ],
   "source": [
    "!gcloud dataproc workflow-templates delete wf-daily-product-revenue --quiet"
   ]
  },
  {
   "cell_type": "markdown",
   "metadata": {},
   "source": [
    "Here is the command to create Dataproc Workflow.\n",
    "\n",
    "```shell\n",
    "gcloud dataproc workflow-templates \\\n",
    "    create wf-daily-product-revenue\n",
    "```"
   ]
  },
  {
   "cell_type": "code",
   "execution_count": 5,
   "metadata": {},
   "outputs": [
    {
     "name": "stderr",
     "output_type": "stream",
     "text": [
      "ERROR: (gcloud.dataproc.workflow-templates.create) argument (TEMPLATE : --region=REGION): Must be specified.\n",
      "Usage: gcloud dataproc workflow-templates create (TEMPLATE : --region=REGION) [optional flags]\n",
      "  optional flags may be  --dag-timeout | --help | --kms-key | --labels |\n",
      "                         --region\n",
      "\n",
      "For detailed information on this command and its flags, run:\n",
      "  gcloud dataproc workflow-templates create --help\n"
     ]
    }
   ],
   "source": [
    "!gcloud dataproc workflow-templates create"
   ]
  },
  {
   "cell_type": "code",
   "execution_count": 6,
   "metadata": {},
   "outputs": [],
   "source": [
    "!gcloud dataproc workflow-templates create wf-daily-product-revenue"
   ]
  },
  {
   "cell_type": "code",
   "execution_count": 7,
   "metadata": {},
   "outputs": [
    {
     "name": "stdout",
     "output_type": "stream",
     "text": [
      "ID                        JOBS  UPDATE_TIME                  VERSION\n",
      "getting_started           4     2024-04-21T06:50:14.751081Z  1\n",
      "wf-daily-product-revenue  0     2024-04-21T07:04:04.406256Z  1\n"
     ]
    }
   ],
   "source": [
    "!gcloud dataproc workflow-templates list"
   ]
  },
  {
   "cell_type": "code",
   "execution_count": 8,
   "metadata": {},
   "outputs": [
    {
     "name": "stderr",
     "output_type": "stream",
     "text": [
      "ERROR: (gcloud.dataproc.workflow-templates) Command name argument expected.\n",
      "\n",
      "Available groups for gcloud dataproc workflow-templates:\n",
      "\n",
      "      add-job                 Add Dataproc jobs to workflow template.\n",
      "\n",
      "Available commands for gcloud dataproc workflow-templates:\n",
      "\n",
      "      create                  Create a workflow template.\n",
      "      delete                  Delete a workflow template.\n",
      "      describe                Describe a workflow template.\n",
      "      export                  Export a workflow template.\n",
      "      get-iam-policy          Get IAM policy for a workflow template.\n",
      "      import                  Import a workflow template.\n",
      "      instantiate             Instantiate a workflow template.\n",
      "      instantiate-from-file   Instantiate a workflow template from a file.\n",
      "      list                    List workflow templates.\n",
      "      remove-dag-timeout      Remove DAG timeout from a workflow template.\n",
      "      remove-job              Remove a job from workflow template.\n",
      "      set-cluster-selector    Set cluster selector for the workflow template.\n",
      "      set-dag-timeout         Set DAG timeout on a workflow template.\n",
      "      set-iam-policy          Set IAM policy for a template.\n",
      "      set-managed-cluster     Set a managed cluster for the workflow template.\n",
      "\n",
      "For detailed information on this command and its flags, run:\n",
      "  gcloud dataproc workflow-templates --help\n"
     ]
    }
   ],
   "source": [
    "!gcloud dataproc workflow-templates "
   ]
  },
  {
   "cell_type": "code",
   "execution_count": 9,
   "metadata": {},
   "outputs": [
    {
     "name": "stderr",
     "output_type": "stream",
     "text": [
      "ERROR: (gcloud.dataproc.workflow-templates.set-cluster-selector) argument (TEMPLATE : --region=REGION): Must be specified.\n",
      "Usage: gcloud dataproc workflow-templates set-cluster-selector (TEMPLATE : --region=REGION) [optional flags]\n",
      "  optional flags may be  --cluster-labels | --help | --region\n",
      "\n",
      "For detailed information on this command and its flags, run:\n",
      "  gcloud dataproc workflow-templates set-cluster-selector --help\n"
     ]
    }
   ],
   "source": [
    "!gcloud dataproc workflow-templates set-cluster-selector"
   ]
  },
  {
   "cell_type": "markdown",
   "metadata": {},
   "source": [
    "Here is the command to attach running or active Dataproc Cluster to the Dataproc Workflow. We need to specify the label for the cluster.\n",
    "\n",
    "```shell\n",
    "gcloud dataproc workflow-templates \\\n",
    "    set-cluster-selector \\\n",
    "    wf-daily-product-revenue \\\n",
    "    --cluster-labels goog-dataproc-cluster-name=aidataprocdev\n",
    "```"
   ]
  },
  {
   "cell_type": "code",
   "execution_count": 10,
   "metadata": {},
   "outputs": [],
   "source": [
    "!gcloud dataproc workflow-templates set-cluster-selector wf-daily-product-revenue --cluster-labels goog-dataproc-cluster-name=khazdataprocdev"
   ]
  },
  {
   "cell_type": "code",
   "execution_count": 11,
   "metadata": {},
   "outputs": [
    {
     "name": "stderr",
     "output_type": "stream",
     "text": [
      "ERROR: (gcloud.dataproc.workflow-templates.add-job) Command name argument expected.\n",
      "\n",
      "Available commands for gcloud dataproc workflow-templates add-job:\n",
      "\n",
      "      hadoop                  Add a hadoop job to the workflow template.\n",
      "      hive                    Add a Hive job to the workflow template.\n",
      "      pig                     Add a Pig job to the workflow template.\n",
      "      presto                  Add a Presto job to the workflow template.\n",
      "      pyspark                 Add a PySpark job to the workflow template.\n",
      "      spark                   Add a Spark job to the workflow template.\n",
      "      spark-r                 Add a SparkR job to the workflow template.\n",
      "      spark-sql               Add a SparkSql job to the workflow template.\n",
      "      trino                   Add a Trino job to the workflow template.\n",
      "\n",
      "For detailed information on this command and its flags, run:\n",
      "  gcloud dataproc workflow-templates add-job --help\n"
     ]
    }
   ],
   "source": [
    "!gcloud dataproc workflow-templates add-job"
   ]
  },
  {
   "cell_type": "code",
   "execution_count": 12,
   "metadata": {},
   "outputs": [
    {
     "name": "stderr",
     "output_type": "stream",
     "text": [
      "ERROR: (gcloud.dataproc.workflow-templates.add-job.spark-sql) Exactly one of (--execute | --file) must be specified.\n",
      "Usage: gcloud dataproc workflow-templates add-job spark-sql --step-id=STEP_ID (--execute=QUERY, -e QUERY | --file=FILE, -f FILE) (--workflow-template=WORKFLOW_TEMPLATE : --region=REGION) [optional flags]\n",
      "  optional flags may be  --driver-log-levels | --execute | --file | --help |\n",
      "                         --jars | --labels | --params | --properties |\n",
      "                         --properties-file | --region | --start-after\n",
      "\n",
      "For detailed information on this command and its flags, run:\n",
      "  gcloud dataproc workflow-templates add-job spark-sql --help\n"
     ]
    }
   ],
   "source": [
    "!gcloud dataproc workflow-templates add-job spark-sql"
   ]
  },
  {
   "cell_type": "markdown",
   "metadata": {},
   "source": [
    "* The command `gcloud dataproc workflow-templates add-job` is similar to `gcloud dataproc jobs submit`. Here are the examples for submitting jobs using `gcloud dataproc jobs submit`.\n",
    "\n",
    "```shell\n",
    "# Without parameters\n",
    "gcloud dataproc jobs submit \\\n",
    "    spark-sql --cluster=aidataprocdev \\\n",
    "    -f gs://airetail/scripts/daily_product_revenue/cleanup.sql\n",
    "\n",
    "# With parameters\n",
    "gcloud dataproc jobs submit \\\n",
    "    spark-sql --cluster=aidataprocdev \\\n",
    "    -f gs://airetail/scripts/daily_product_revenue/file_format_converter.sql \\\n",
    "    --params=bucket_name=gs://airetail,table_name=orders\n",
    "```\n"
   ]
  },
  {
   "cell_type": "markdown",
   "metadata": {},
   "source": [
    "Here are the commands to add Spark SQL Jobs to the Dataproc Workflow.\n",
    "\n",
    "```shell\n",
    "gcloud dataproc workflow-templates add-job spark-sql \\\n",
    "    --step-id=job-cleanup \\\n",
    "    --file=gs://airetail/scripts/daily_product_revenue/cleanup.sql \\\n",
    "    --workflow-template=wf-daily-product-revenue\n",
    "\n",
    "# File Format Converter jobs with dependency on cleanup\n",
    "gcloud dataproc workflow-templates add-job spark-sql \\\n",
    "    --step-id=job-convert-orders \\\n",
    "    --file=gs://airetail/scripts/daily_product_revenue/file_format_converter.sql \\\n",
    "    --params=bucket_name=gs://airetail,table_name=orders \\\n",
    "    --workflow-template=wf-daily-product-revenue \\\n",
    "    --start-after=job-cleanup\n",
    "\n",
    "gcloud dataproc workflow-templates add-job spark-sql \\\n",
    "    --step-id=job-convert-order-items \\\n",
    "    --file=gs://airetail/scripts/daily_product_revenue/file_format_converter.sql \\\n",
    "    --params=bucket_name=gs://airetail,table_name=order_items \\\n",
    "    --workflow-template=wf-daily-product-revenue \\\n",
    "    --start-after=job-cleanup\n",
    "\n",
    "# Last Job which depends on convert orders and order_items jobs\n",
    "gcloud dataproc workflow-templates add-job spark-sql \\\n",
    "    --step-id=job-daily-product-revenue \\\n",
    "    --file=gs://airetail/scripts/daily_product_revenue/compute_daily_product_revenue.sql \\\n",
    "    --params=bucket_name=gs://airetail \\\n",
    "    --workflow-template=wf-daily-product-revenue \\\n",
    "    --start-after=job-convert-orders,job-convert-order-items\n",
    "```"
   ]
  },
  {
   "cell_type": "code",
   "execution_count": 13,
   "metadata": {},
   "outputs": [
    {
     "name": "stdout",
     "output_type": "stream",
     "text": [
      "createTime: '2024-04-21T07:04:04.406256Z'\n",
      "id: wf-daily-product-revenue\n",
      "jobs:\n",
      "- sparkSqlJob:\n",
      "    queryFileUri: gs://khazretail/scripts/daily_product_revenue/cleanup.sql\n",
      "  stepId: job-cleanup\n",
      "name: projects/wired-method-417107/regions/asia-southeast2/workflowTemplates/wf-daily-product-revenue\n",
      "placement:\n",
      "  clusterSelector:\n",
      "    clusterLabels:\n",
      "      goog-dataproc-cluster-name: khazdataprocdev\n",
      "updateTime: '2024-04-21T07:16:51.005274Z'\n",
      "version: 3\n"
     ]
    }
   ],
   "source": [
    "!gcloud dataproc workflow-templates add-job spark-sql --step-id=job-cleanup --file=gs://khazretail/scripts/daily_product_revenue/cleanup.sql --workflow-template=wf-daily-product-revenue"
   ]
  },
  {
   "cell_type": "code",
   "execution_count": 14,
   "metadata": {},
   "outputs": [
    {
     "name": "stdout",
     "output_type": "stream",
     "text": [
      "createTime: '2024-04-21T07:04:04.406256Z'\n",
      "id: wf-daily-product-revenue\n",
      "jobs:\n",
      "- sparkSqlJob:\n",
      "    queryFileUri: gs://khazretail/scripts/daily_product_revenue/cleanup.sql\n",
      "  stepId: job-cleanup\n",
      "- prerequisiteStepIds:\n",
      "  - job-cleanup\n",
      "  sparkSqlJob:\n",
      "    queryFileUri: gs://khazretail/scripts/daily_product_revenue/file_format_converter.sql\n",
      "    scriptVariables:\n",
      "      bucket_name: gs://khazretail\n",
      "      table_name: orders\n",
      "  stepId: job-convert-orders\n",
      "name: projects/wired-method-417107/regions/asia-southeast2/workflowTemplates/wf-daily-product-revenue\n",
      "placement:\n",
      "  clusterSelector:\n",
      "    clusterLabels:\n",
      "      goog-dataproc-cluster-name: khazdataprocdev\n",
      "updateTime: '2024-04-21T07:18:11.180699Z'\n",
      "version: 4\n"
     ]
    }
   ],
   "source": [
    "\n",
    "!gcloud dataproc workflow-templates add-job spark-sql --step-id=job-convert-orders --file=gs://khazretail/scripts/daily_product_revenue/file_format_converter.sql --params=bucket_name=gs://khazretail,table_name=orders --workflow-template=wf-daily-product-revenue --start-after=job-cleanup"
   ]
  },
  {
   "cell_type": "code",
   "execution_count": 15,
   "metadata": {},
   "outputs": [
    {
     "name": "stdout",
     "output_type": "stream",
     "text": [
      "createTime: '2024-04-21T07:04:04.406256Z'\n",
      "id: wf-daily-product-revenue\n",
      "jobs:\n",
      "- sparkSqlJob:\n",
      "    queryFileUri: gs://khazretail/scripts/daily_product_revenue/cleanup.sql\n",
      "  stepId: job-cleanup\n",
      "- prerequisiteStepIds:\n",
      "  - job-cleanup\n",
      "  sparkSqlJob:\n",
      "    queryFileUri: gs://khazretail/scripts/daily_product_revenue/file_format_converter.sql\n",
      "    scriptVariables:\n",
      "      bucket_name: gs://khazretail\n",
      "      table_name: orders\n",
      "  stepId: job-convert-orders\n",
      "- prerequisiteStepIds:\n",
      "  - job-cleanup\n",
      "  sparkSqlJob:\n",
      "    queryFileUri: gs://khazretail/scripts/daily_product_revenue/file_format_converter.sql\n",
      "    scriptVariables:\n",
      "      bucket_name: gs://khazretail\n",
      "      table_name: order_items\n",
      "  stepId: job-convert-order-items\n",
      "name: projects/wired-method-417107/regions/asia-southeast2/workflowTemplates/wf-daily-product-revenue\n",
      "placement:\n",
      "  clusterSelector:\n",
      "    clusterLabels:\n",
      "      goog-dataproc-cluster-name: khazdataprocdev\n",
      "updateTime: '2024-04-21T07:19:36.483545Z'\n",
      "version: 5\n"
     ]
    }
   ],
   "source": [
    "!gcloud dataproc workflow-templates add-job spark-sql --step-id=job-convert-order-items --file=gs://khazretail/scripts/daily_product_revenue/file_format_converter.sql --params=bucket_name=gs://khazretail,table_name=order_items --workflow-template=wf-daily-product-revenue --start-after=job-cleanup"
   ]
  },
  {
   "cell_type": "code",
   "execution_count": 16,
   "metadata": {},
   "outputs": [
    {
     "name": "stdout",
     "output_type": "stream",
     "text": [
      "createTime: '2024-04-21T07:04:04.406256Z'\n",
      "id: wf-daily-product-revenue\n",
      "jobs:\n",
      "- sparkSqlJob:\n",
      "    queryFileUri: gs://khazretail/scripts/daily_product_revenue/cleanup.sql\n",
      "  stepId: job-cleanup\n",
      "- prerequisiteStepIds:\n",
      "  - job-cleanup\n",
      "  sparkSqlJob:\n",
      "    queryFileUri: gs://khazretail/scripts/daily_product_revenue/file_format_converter.sql\n",
      "    scriptVariables:\n",
      "      bucket_name: gs://khazretail\n",
      "      table_name: orders\n",
      "  stepId: job-convert-orders\n",
      "- prerequisiteStepIds:\n",
      "  - job-cleanup\n",
      "  sparkSqlJob:\n",
      "    queryFileUri: gs://khazretail/scripts/daily_product_revenue/file_format_converter.sql\n",
      "    scriptVariables:\n",
      "      bucket_name: gs://khazretail\n",
      "      table_name: order_items\n",
      "  stepId: job-convert-order-items\n",
      "- prerequisiteStepIds:\n",
      "  - job-convert-orders\n",
      "  - job-convert-order-items\n",
      "  sparkSqlJob:\n",
      "    queryFileUri: gs://khazretail/scripts/daily_product_revenue/compute_daily_product_revenue.sql\n",
      "    scriptVariables:\n",
      "      bucket_name: gs://khazretail\n",
      "  stepId: job-daily-product-revenue\n",
      "name: projects/wired-method-417107/regions/asia-southeast2/workflowTemplates/wf-daily-product-revenue\n",
      "placement:\n",
      "  clusterSelector:\n",
      "    clusterLabels:\n",
      "      goog-dataproc-cluster-name: khazdataprocdev\n",
      "updateTime: '2024-04-21T07:20:52.444556Z'\n",
      "version: 6\n"
     ]
    }
   ],
   "source": [
    "!gcloud dataproc workflow-templates add-job spark-sql --step-id=job-daily-product-revenue --file=gs://khazretail/scripts/daily_product_revenue/compute_daily_product_revenue.sql --params=bucket_name=gs://khazretail --workflow-template=wf-daily-product-revenue --start-after=job-convert-orders,job-convert-order-items"
   ]
  },
  {
   "cell_type": "code",
   "execution_count": 17,
   "metadata": {},
   "outputs": [
    {
     "name": "stdout",
     "output_type": "stream",
     "text": [
      "ID                        JOBS  UPDATE_TIME                  VERSION\n",
      "getting_started           4     2024-04-21T06:50:14.751081Z  1\n",
      "wf-daily-product-revenue  4     2024-04-21T07:20:52.444556Z  6\n"
     ]
    }
   ],
   "source": [
    "!gcloud dataproc workflow-templates list"
   ]
  },
  {
   "cell_type": "code",
   "execution_count": 18,
   "metadata": {},
   "outputs": [
    {
     "name": "stdout",
     "output_type": "stream",
     "text": [
      "createTime: '2024-04-21T07:04:04.406256Z'\n",
      "id: wf-daily-product-revenue\n",
      "jobs:\n",
      "- sparkSqlJob:\n",
      "    queryFileUri: gs://khazretail/scripts/daily_product_revenue/cleanup.sql\n",
      "  stepId: job-cleanup\n",
      "- prerequisiteStepIds:\n",
      "  - job-cleanup\n",
      "  sparkSqlJob:\n",
      "    queryFileUri: gs://khazretail/scripts/daily_product_revenue/file_format_converter.sql\n",
      "    scriptVariables:\n",
      "      bucket_name: gs://khazretail\n",
      "      table_name: orders\n",
      "  stepId: job-convert-orders\n",
      "- prerequisiteStepIds:\n",
      "  - job-cleanup\n",
      "  sparkSqlJob:\n",
      "    queryFileUri: gs://khazretail/scripts/daily_product_revenue/file_format_converter.sql\n",
      "    scriptVariables:\n",
      "      bucket_name: gs://khazretail\n",
      "      table_name: order_items\n",
      "  stepId: job-convert-order-items\n",
      "- prerequisiteStepIds:\n",
      "  - job-convert-orders\n",
      "  - job-convert-order-items\n",
      "  sparkSqlJob:\n",
      "    queryFileUri: gs://khazretail/scripts/daily_product_revenue/compute_daily_product_revenue.sql\n",
      "    scriptVariables:\n",
      "      bucket_name: gs://khazretail\n",
      "  stepId: job-daily-product-revenue\n",
      "name: projects/wired-method-417107/regions/asia-southeast2/workflowTemplates/wf-daily-product-revenue\n",
      "placement:\n",
      "  clusterSelector:\n",
      "    clusterLabels:\n",
      "      goog-dataproc-cluster-name: khazdataprocdev\n",
      "updateTime: '2024-04-21T07:20:52.444556Z'\n",
      "version: 6\n"
     ]
    }
   ],
   "source": [
    "!gcloud dataproc workflow-templates describe wf-daily-product-revenue"
   ]
  },
  {
   "cell_type": "markdown",
   "metadata": {},
   "source": [
    "Here is the command to instantiate or run Dataproc Workflow.\n",
    "\n",
    "```shell\n",
    "gcloud dataproc workflow-templates \\\n",
    "    instantiate wf-daily-product-revenue\n",
    "```"
   ]
  },
  {
   "cell_type": "code",
   "execution_count": 19,
   "metadata": {},
   "outputs": [
    {
     "name": "stderr",
     "output_type": "stream",
     "text": [
      "ERROR: (gcloud.dataproc.workflow-templates) Command name argument expected.\n",
      "\n",
      "Available groups for gcloud dataproc workflow-templates:\n",
      "\n",
      "      add-job                 Add Dataproc jobs to workflow template.\n",
      "\n",
      "Available commands for gcloud dataproc workflow-templates:\n",
      "\n",
      "      create                  Create a workflow template.\n",
      "      delete                  Delete a workflow template.\n",
      "      describe                Describe a workflow template.\n",
      "      export                  Export a workflow template.\n",
      "      get-iam-policy          Get IAM policy for a workflow template.\n",
      "      import                  Import a workflow template.\n",
      "      instantiate             Instantiate a workflow template.\n",
      "      instantiate-from-file   Instantiate a workflow template from a file.\n",
      "      list                    List workflow templates.\n",
      "      remove-dag-timeout      Remove DAG timeout from a workflow template.\n",
      "      remove-job              Remove a job from workflow template.\n",
      "      set-cluster-selector    Set cluster selector for the workflow template.\n",
      "      set-dag-timeout         Set DAG timeout on a workflow template.\n",
      "      set-iam-policy          Set IAM policy for a template.\n",
      "      set-managed-cluster     Set a managed cluster for the workflow template.\n",
      "\n",
      "For detailed information on this command and its flags, run:\n",
      "  gcloud dataproc workflow-templates --help\n"
     ]
    }
   ],
   "source": [
    "!gcloud dataproc workflow-templates"
   ]
  },
  {
   "cell_type": "code",
   "execution_count": 20,
   "metadata": {},
   "outputs": [
    {
     "name": "stderr",
     "output_type": "stream",
     "text": [
      "ERROR: (gcloud.dataproc.workflow-templates.instantiate) argument (TEMPLATE : --region=REGION): Must be specified.\n",
      "Usage: gcloud dataproc workflow-templates instantiate (TEMPLATE : --region=REGION) [optional flags]\n",
      "  optional flags may be  --async | --help | --parameters | --region\n",
      "\n",
      "For detailed information on this command and its flags, run:\n",
      "  gcloud dataproc workflow-templates instantiate --help\n"
     ]
    }
   ],
   "source": [
    "!gcloud dataproc workflow-templates instantiate"
   ]
  },
  {
   "cell_type": "code",
   "execution_count": 21,
   "metadata": {},
   "outputs": [
    {
     "name": "stderr",
     "output_type": "stream",
     "text": [
      "ERROR: (gcloud.dataproc.workflow-templates.instantiate-from-file) argument --file: Must be specified.\n",
      "Usage: gcloud dataproc workflow-templates instantiate-from-file --file=FILE [optional flags]\n",
      "  optional flags may be  --async | --help | --region\n",
      "\n",
      "For detailed information on this command and its flags, run:\n",
      "  gcloud dataproc workflow-templates instantiate-from-file --help\n"
     ]
    }
   ],
   "source": [
    "!gcloud dataproc workflow-templates instantiate-from-file"
   ]
  },
  {
   "cell_type": "code",
   "execution_count": 22,
   "metadata": {},
   "outputs": [
    {
     "name": "stdout",
     "output_type": "stream",
     "text": [
      "NAME\n",
      "    gcloud dataproc workflow-templates instantiate-from-file - instantiate a\n",
      "        workflow template from a file\n",
      "\n",
      "SYNOPSIS\n",
      "    gcloud dataproc workflow-templates instantiate-from-file --file=FILE\n",
      "        [--async] [--region=REGION] [GCLOUD_WIDE_FLAG ...]\n",
      "\n",
      "DESCRIPTION\n",
      "    Instantiate a workflow template from a file.\n",
      "\n",
      "EXAMPLES\n",
      "    To instantiate a workflow template from a yaml file 'template.yaml' in\n",
      "    region 'us-central1', run:\n",
      "\n",
      "        $ gcloud dataproc workflow-templates instantiate-from-file \\\n",
      "            --file=template.yaml --region=us-central1\n",
      "\n",
      "REQUIRED FLAGS\n",
      "     --file=FILE\n",
      "        The YAML file containing the workflow template to run\n",
      "\n",
      "OPTIONAL FLAGS\n",
      "     --async\n",
      "        Return immediately, without waiting for the operation in progress to\n",
      "        complete.\n",
      "\n",
      "     --region=REGION\n",
      "        Dataproc region to use. Each Dataproc region constitutes an independent\n",
      "        resource namespace constrained to deploying instances into Compute\n",
      "        Engine zones inside the region. Overrides the default dataproc/region\n",
      "        property value for this command invocation.\n",
      "\n",
      "GCLOUD WIDE FLAGS\n",
      "    These flags are available to all commands: --access-token-file, --account,\n",
      "    --billing-project, --configuration, --flags-file, --flatten, --format,\n",
      "    --help, --impersonate-service-account, --log-http, --project, --quiet,\n",
      "    --trace-token, --user-output-enabled, --verbosity.\n",
      "\n",
      "    Run $ gcloud help for details.\n"
     ]
    }
   ],
   "source": [
    "!gcloud dataproc workflow-templates instantiate-from-file --help"
   ]
  },
  {
   "cell_type": "code",
   "execution_count": 23,
   "metadata": {},
   "outputs": [
    {
     "name": "stderr",
     "output_type": "stream",
     "text": [
      "ERROR: (gcloud.dataproc.workflow-templates.export) argument (TEMPLATE : --region=REGION): Must be specified.\n",
      "Usage: gcloud dataproc workflow-templates export (TEMPLATE : --region=REGION) [optional flags]\n",
      "  optional flags may be  --destination | --help | --region | --version\n",
      "\n",
      "For detailed information on this command and its flags, run:\n",
      "  gcloud dataproc workflow-templates export --help\n"
     ]
    }
   ],
   "source": [
    "!gcloud dataproc workflow-templates export"
   ]
  },
  {
   "cell_type": "code",
   "execution_count": 24,
   "metadata": {},
   "outputs": [
    {
     "name": "stdout",
     "output_type": "stream",
     "text": [
      "jobs:\n",
      "- sparkSqlJob:\n",
      "    queryFileUri: gs://khazretail/scripts/daily_product_revenue/cleanup.sql\n",
      "  stepId: job-cleanup\n",
      "- prerequisiteStepIds:\n",
      "  - job-cleanup\n",
      "  sparkSqlJob:\n",
      "    queryFileUri: gs://khazretail/scripts/daily_product_revenue/file_format_converter.sql\n",
      "    scriptVariables:\n",
      "      bucket_name: gs://khazretail\n",
      "      table_name: orders\n",
      "  stepId: job-convert-orders\n",
      "- prerequisiteStepIds:\n",
      "  - job-cleanup\n",
      "  sparkSqlJob:\n",
      "    queryFileUri: gs://khazretail/scripts/daily_product_revenue/file_format_converter.sql\n",
      "    scriptVariables:\n",
      "      bucket_name: gs://khazretail\n",
      "      table_name: order_items\n",
      "  stepId: job-convert-order-items\n",
      "- prerequisiteStepIds:\n",
      "  - job-convert-orders\n",
      "  - job-convert-order-items\n",
      "  sparkSqlJob:\n",
      "    queryFileUri: gs://khazretail/scripts/daily_product_revenue/compute_daily_product_revenue.sql\n",
      "    scriptVariables:\n",
      "      bucket_name: gs://khazretail\n",
      "  stepId: job-daily-product-revenue\n",
      "placement:\n",
      "  clusterSelector:\n",
      "    clusterLabels:\n",
      "      goog-dataproc-cluster-name: khazdataprocdev\n"
     ]
    }
   ],
   "source": [
    "!gcloud dataproc workflow-templates export wf-daily-product-revenue"
   ]
  },
  {
   "cell_type": "code",
   "execution_count": 25,
   "metadata": {},
   "outputs": [
    {
     "name": "stderr",
     "output_type": "stream",
     "text": [
      "Waiting on operation [projects/wired-method-417107/regions/asia-southeast2/operations/8d3e85c4-768e-34cb-8e6f-3bdf7f916916].\n",
      "WorkflowTemplate [wf-daily-product-revenue] RUNNING\n",
      "Job ID job-cleanup-ofco6qajm5lzy RUNNING\n",
      "Job ID job-cleanup-ofco6qajm5lzy COMPLETED\n",
      "Job ID job-convert-orders-ofco6qajm5lzy RUNNING\n",
      "Job ID job-convert-order-items-ofco6qajm5lzy RUNNING\n",
      "Job ID job-convert-orders-ofco6qajm5lzy COMPLETED\n",
      "Job ID job-convert-order-items-ofco6qajm5lzy COMPLETED\n",
      "Job ID job-daily-product-revenue-ofco6qajm5lzy RUNNING\n",
      "Job ID job-daily-product-revenue-ofco6qajm5lzy COMPLETED\n",
      "WorkflowTemplate [wf-daily-product-revenue] DONE\n"
     ]
    }
   ],
   "source": [
    "# This will take some time to run\n",
    "\n",
    "!gcloud dataproc workflow-templates instantiate wf-daily-product-revenue"
   ]
  },
  {
   "cell_type": "code",
   "execution_count": null,
   "metadata": {},
   "outputs": [],
   "source": []
  }
 ],
 "metadata": {
  "kernelspec": {
   "display_name": "Python 3.7.3 64-bit",
   "language": "python",
   "name": "python3"
  },
  "language_info": {
   "codemirror_mode": {
    "name": "ipython",
    "version": 3
   },
   "file_extension": ".py",
   "mimetype": "text/x-python",
   "name": "python",
   "nbconvert_exporter": "python",
   "pygments_lexer": "ipython3",
   "version": "3.9.13"
  },
  "orig_nbformat": 4,
  "vscode": {
   "interpreter": {
    "hash": "31f2aee4e71d21fbe5cf8b01ff0e069b9275f58929596ceb00d14d90e3e16cd6"
   }
  }
 },
 "nbformat": 4,
 "nbformat_minor": 2
}
